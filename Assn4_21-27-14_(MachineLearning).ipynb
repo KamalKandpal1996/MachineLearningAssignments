{
 "cells": [
  {
   "cell_type": "markdown",
   "id": "a68cdc03-66a6-46c9-82b2-f0fa7bed7b01",
   "metadata": {},
   "source": [
    "<b>MACHINE LEARNING LAB ASSIGNMENT 4 : KNN</b> <br>\n",
    "Submitted By : KAMAL KANDPAL <br>\n",
    "Reg. No. : 21-27-14 <br>\n",
    "DATA SCIENCE (APPLIED MATHEMATICS)"
   ]
  },
  {
   "cell_type": "markdown",
   "id": "65086df0-7199-4705-9746-38484dcffb99",
   "metadata": {},
   "source": [
    "### IMPORTING LIBRARIES"
   ]
  },
  {
   "cell_type": "code",
   "execution_count": 1,
   "id": "aee17b58-bc63-4234-adc6-e4fdf951e3f6",
   "metadata": {},
   "outputs": [],
   "source": [
    "import numpy as np\n",
    "import pandas as pd \n",
    "import matplotlib.pyplot as plt"
   ]
  },
  {
   "cell_type": "markdown",
   "id": "9f63bb63-274d-4e1c-b302-5682b3652409",
   "metadata": {},
   "source": [
    "### IMPORTING THE DATASET "
   ]
  },
  {
   "cell_type": "code",
   "execution_count": 2,
   "id": "59e6dc70-8e3c-45cf-bdb8-b2a4f40594ab",
   "metadata": {},
   "outputs": [
    {
     "name": "stdout",
     "output_type": "stream",
     "text": [
      "x(first five training examples) :\n",
      " [[5.1 3.5 1.4 0.2]\n",
      " [4.9 3.  1.4 0.2]\n",
      " [4.7 3.2 1.3 0.2]\n",
      " [4.6 3.1 1.5 0.2]\n",
      " [5.  3.6 1.4 0.2]]\n",
      "y(first five training examples) :\n",
      " ['Setosa' 'Setosa' 'Setosa' 'Setosa' 'Setosa']\n"
     ]
    }
   ],
   "source": [
    "dataset  = pd.read_csv('iris.csv')\n",
    "dataset.head()\n",
    "x = dataset.iloc[:,:-1].values\n",
    "print('x(first five training examples) :\\n',x[0:5,:])\n",
    "y = dataset.iloc[:,-1].values\n",
    "print('y(first five training examples) :\\n',y[0:5])"
   ]
  },
  {
   "cell_type": "markdown",
   "id": "4c8b3ce1-01e2-4207-9ac6-313f64d6d748",
   "metadata": {},
   "source": [
    "### SPLITTING THE DATASET INTO TRAINING SET AND TEST SET "
   ]
  },
  {
   "cell_type": "code",
   "execution_count": 3,
   "id": "c6295b4e-7b71-457f-a18d-7780f71ba4d1",
   "metadata": {},
   "outputs": [],
   "source": [
    "from sklearn.model_selection import train_test_split\n",
    "x_train, x_test, y_train, y_test = train_test_split(x,y,test_size=0.30,random_state=2)"
   ]
  },
  {
   "cell_type": "markdown",
   "id": "dda92bbe-4031-4996-9c3d-b939e14f30f4",
   "metadata": {},
   "source": [
    "### FEATURE SCALING"
   ]
  },
  {
   "cell_type": "code",
   "execution_count": 4,
   "id": "a7efe9dc-0ab7-43e1-8242-db10336aa796",
   "metadata": {},
   "outputs": [],
   "source": [
    "from sklearn.preprocessing import StandardScaler\n",
    "sc = StandardScaler()\n",
    "x_train = sc.fit_transform(x_train)\n",
    "x_test = sc.fit_transform(x_test)\n",
    "# print('x_train(first five training examples) :\\n',x_train[0:5,:])\n",
    "# print('x_test(first five training examples) :\\n',x_test[0:5,:])"
   ]
  },
  {
   "cell_type": "markdown",
   "id": "c6285699-1486-4d63-b365-b16de55b9561",
   "metadata": {},
   "source": [
    "### 1. TRAINING THE KNN MODEL ON THE TRAINING SET (k=1)"
   ]
  },
  {
   "cell_type": "code",
   "execution_count": 5,
   "id": "f9a7d573-3ff2-4c21-b3b2-4eed279fadf1",
   "metadata": {},
   "outputs": [
    {
     "data": {
      "text/plain": [
       "KNeighborsClassifier(n_neighbors=1)"
      ]
     },
     "execution_count": 5,
     "metadata": {},
     "output_type": "execute_result"
    }
   ],
   "source": [
    "from sklearn.neighbors import KNeighborsClassifier\n",
    "classifier = KNeighborsClassifier(n_neighbors=1, metric='minkowski', p=2)\n",
    "classifier.fit(x_train,y_train)\n",
    "#The default metric is minkowski, and with p=2 is equivalent to the standard Euclidean metric. "
   ]
  },
  {
   "cell_type": "markdown",
   "id": "17e21b3c-4f29-4ea8-9e16-17b3a028a4ce",
   "metadata": {},
   "source": [
    "### PREDICTING THE TEST SET RESULTS"
   ]
  },
  {
   "cell_type": "code",
   "execution_count": 6,
   "id": "1a103e30-9065-415e-8951-741ae0ff3197",
   "metadata": {},
   "outputs": [
    {
     "name": "stdout",
     "output_type": "stream",
     "text": [
      "[y_pred , y_test] : \n",
      "\n"
     ]
    }
   ],
   "source": [
    "y_pred = classifier.predict(x_test)\n",
    "print('[y_pred , y_test] : \\n')\n",
    "# print(np.concatenate((y_pred.reshape(len(y_pred),1) , y_test.reshape(len(y_test),1)),1))"
   ]
  },
  {
   "cell_type": "markdown",
   "id": "9e4a27b2-8fba-4329-a727-96bac52b2f9a",
   "metadata": {},
   "source": [
    "### Accuracy Score and Confusion Matrix"
   ]
  },
  {
   "cell_type": "code",
   "execution_count": 7,
   "id": "975bb33b-8537-46a4-b3ec-254cddc12453",
   "metadata": {},
   "outputs": [
    {
     "name": "stdout",
     "output_type": "stream",
     "text": [
      "0.9555555555555556\n",
      "\n",
      "The correct predictions are along the right diagonal in the confusion matrix,rest are wrong predictions :\n",
      "[[16  1  0]\n",
      " [ 0 14  1]\n",
      " [ 0  0 13]]\n"
     ]
    }
   ],
   "source": [
    "from sklearn.metrics import accuracy_score,confusion_matrix\n",
    "print(accuracy_score(y_test,y_pred))\n",
    "\n",
    "print('\\nThe correct predictions are along the right diagonal in the confusion matrix,rest are wrong predictions :')\n",
    "print(confusion_matrix(y_test,y_pred))\n"
   ]
  },
  {
   "cell_type": "markdown",
   "id": "9bdb46eb-00cd-486d-aaa6-ca3126cafeaa",
   "metadata": {},
   "source": [
    "### 2. TRAINING THE KNN MODEL ON THE TRAINING SET (k=3)"
   ]
  },
  {
   "cell_type": "code",
   "execution_count": 8,
   "id": "a79893c8-8d14-4e3d-be80-24a25f5559dc",
   "metadata": {},
   "outputs": [
    {
     "name": "stdout",
     "output_type": "stream",
     "text": [
      "0.9333333333333333\n",
      "[[16  1  0]\n",
      " [ 0 13  2]\n",
      " [ 0  0 13]]\n"
     ]
    }
   ],
   "source": [
    "classifier2 = KNeighborsClassifier(n_neighbors=3, metric='minkowski', p=2)\n",
    "classifier2.fit(x_train,y_train)\n",
    "y_pred = classifier2.predict(x_test)\n",
    "print(accuracy_score(y_test,y_pred))\n",
    "print(confusion_matrix(y_test,y_pred))"
   ]
  },
  {
   "cell_type": "markdown",
   "id": "bc159295-34e6-4ac2-8bbc-c88202fc8a09",
   "metadata": {},
   "source": [
    "### 3. TRAINING THE KNN MODEL ON THE TRAINING SET (k=5)"
   ]
  },
  {
   "cell_type": "code",
   "execution_count": 9,
   "id": "dd9c2e7e-76bf-4cf5-ba61-169f124debf6",
   "metadata": {},
   "outputs": [
    {
     "name": "stdout",
     "output_type": "stream",
     "text": [
      "0.9333333333333333\n",
      "[[16  1  0]\n",
      " [ 0 13  2]\n",
      " [ 0  0 13]]\n"
     ]
    }
   ],
   "source": [
    "classifier3 = KNeighborsClassifier(n_neighbors=5, metric='minkowski', p=2)\n",
    "classifier3.fit(x_train,y_train)\n",
    "y_pred = classifier3.predict(x_test)\n",
    "print(accuracy_score(y_test,y_pred))\n",
    "print(confusion_matrix(y_test,y_pred))"
   ]
  }
 ],
 "metadata": {
  "kernelspec": {
   "display_name": "Python 3 (ipykernel)",
   "language": "python",
   "name": "python3"
  },
  "language_info": {
   "codemirror_mode": {
    "name": "ipython",
    "version": 3
   },
   "file_extension": ".py",
   "mimetype": "text/x-python",
   "name": "python",
   "nbconvert_exporter": "python",
   "pygments_lexer": "ipython3",
   "version": "3.9.4"
  }
 },
 "nbformat": 4,
 "nbformat_minor": 5
}
