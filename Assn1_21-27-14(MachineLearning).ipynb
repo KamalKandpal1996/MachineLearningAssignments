{
 "cells": [
  {
   "cell_type": "markdown",
   "id": "d23e8b4a-1f12-49d3-b9b9-a8fcc89e776e",
   "metadata": {},
   "source": [
    "### Importing the libraries"
   ]
  },
  {
   "cell_type": "code",
   "execution_count": 2,
   "id": "3b5b68cd-4de6-4d24-a675-f72349c6ae2b",
   "metadata": {},
   "outputs": [],
   "source": [
    "import numpy as np \n",
    "import pandas as pd \n",
    "import matplotlib.pyplot as plt"
   ]
  },
  {
   "cell_type": "markdown",
   "id": "25bacf45-be63-49fe-9c01-7fd32108630a",
   "metadata": {},
   "source": [
    "### Importing the dataset"
   ]
  },
  {
   "cell_type": "code",
   "execution_count": 3,
   "id": "bc9c4ddc-2c27-40d2-921b-a45975f15da4",
   "metadata": {},
   "outputs": [
    {
     "name": "stdout",
     "output_type": "stream",
     "text": [
      "(5, 1) (5,)\n",
      "[[1]\n",
      " [2]\n",
      " [3]\n",
      " [4]\n",
      " [5]]\n"
     ]
    },
    {
     "data": {
      "text/html": [
       "<div>\n",
       "<style scoped>\n",
       "    .dataframe tbody tr th:only-of-type {\n",
       "        vertical-align: middle;\n",
       "    }\n",
       "\n",
       "    .dataframe tbody tr th {\n",
       "        vertical-align: top;\n",
       "    }\n",
       "\n",
       "    .dataframe thead th {\n",
       "        text-align: right;\n",
       "    }\n",
       "</style>\n",
       "<table border=\"1\" class=\"dataframe\">\n",
       "  <thead>\n",
       "    <tr style=\"text-align: right;\">\n",
       "      <th></th>\n",
       "      <th>x</th>\n",
       "      <th>y</th>\n",
       "    </tr>\n",
       "  </thead>\n",
       "  <tbody>\n",
       "    <tr>\n",
       "      <th>0</th>\n",
       "      <td>1</td>\n",
       "      <td>1.2</td>\n",
       "    </tr>\n",
       "    <tr>\n",
       "      <th>1</th>\n",
       "      <td>2</td>\n",
       "      <td>1.9</td>\n",
       "    </tr>\n",
       "    <tr>\n",
       "      <th>2</th>\n",
       "      <td>3</td>\n",
       "      <td>6.4</td>\n",
       "    </tr>\n",
       "    <tr>\n",
       "      <th>3</th>\n",
       "      <td>4</td>\n",
       "      <td>8.3</td>\n",
       "    </tr>\n",
       "    <tr>\n",
       "      <th>4</th>\n",
       "      <td>5</td>\n",
       "      <td>10.0</td>\n",
       "    </tr>\n",
       "  </tbody>\n",
       "</table>\n",
       "</div>"
      ],
      "text/plain": [
       "   x     y\n",
       "0  1   1.2\n",
       "1  2   1.9\n",
       "2  3   6.4\n",
       "3  4   8.3\n",
       "4  5  10.0"
      ]
     },
     "execution_count": 3,
     "metadata": {},
     "output_type": "execute_result"
    }
   ],
   "source": [
    "dataset = pd.read_csv('Assn1_Data.csv')\n",
    "dataset.head()\n",
    "x= dataset.iloc[:,:-1].values\n",
    "y= dataset.iloc[:,-1].values\n",
    "print(x.shape,y.shape)\n",
    "print(x)\n",
    "dataset.head()"
   ]
  },
  {
   "cell_type": "markdown",
   "id": "88eca41b-b73a-4da5-820f-a53edc596f6d",
   "metadata": {},
   "source": [
    "### Initialising the parameters"
   ]
  },
  {
   "cell_type": "code",
   "execution_count": 4,
   "id": "57ebea69-9085-4790-a471-a995f0ab3bd4",
   "metadata": {},
   "outputs": [
    {
     "name": "stdout",
     "output_type": "stream",
     "text": [
      "theta :  [0 0]\n",
      "x0 =  [[1]\n",
      " [1]\n",
      " [1]\n",
      " [1]\n",
      " [1]]\n",
      "x = [[1 1]\n",
      " [1 2]\n",
      " [1 3]\n",
      " [1 4]\n",
      " [1 5]]\n"
     ]
    },
    {
     "data": {
      "text/plain": [
       "(5, 2)"
      ]
     },
     "execution_count": 4,
     "metadata": {},
     "output_type": "execute_result"
    }
   ],
   "source": [
    "theta = np.array([0,0]) \n",
    "print('theta : ', theta)\n",
    "\n",
    "x0 = np.ones(5, dtype=int).reshape(5,1)\n",
    "print('x0 = ',x0)\n",
    "x0.shape\n",
    "\n",
    "x= np.hstack((x0,x))\n",
    "print(f\"x = {x}\")\n",
    "x.shape\n"
   ]
  },
  {
   "cell_type": "markdown",
   "id": "7212efac-b8a3-403d-98bf-0ddce79752d5",
   "metadata": {},
   "source": [
    "### Applying Gradient Descent"
   ]
  },
  {
   "cell_type": "code",
   "execution_count": 5,
   "id": "0ed3f88f-defc-4ca3-807a-9f5a85da7f61",
   "metadata": {},
   "outputs": [],
   "source": [
    "LR = 0.001\n",
    "def gradientDescent(LR,theta,x,y):\n",
    "    h= np.dot(theta,x.T)\n",
    "    a = np.dot((y-h),x)\n",
    "    theta = theta - LR*a \n",
    "    \n",
    "    return theta"
   ]
  },
  {
   "cell_type": "markdown",
   "id": "bed6b036-46c1-4688-8f84-3e110b7b6f75",
   "metadata": {},
   "source": [
    "### Finding Updated Parameters"
   ]
  },
  {
   "cell_type": "code",
   "execution_count": 6,
   "id": "87d760d8-ce84-4aee-aca4-1cd42a2ee6c5",
   "metadata": {},
   "outputs": [
    {
     "name": "stdout",
     "output_type": "stream",
     "text": [
      "[-4.55890074e+24 -1.64590782e+25]\n"
     ]
    }
   ],
   "source": [
    "epochs = 1000 \n",
    "\n",
    "for i in range(epochs):\n",
    "    theta_update = gradientDescent(LR,theta,x,y)\n",
    "    theta = theta_update\n",
    "print(theta)"
   ]
  }
 ],
 "metadata": {
  "kernelspec": {
   "display_name": "Python 3 (ipykernel)",
   "language": "python",
   "name": "python3"
  },
  "language_info": {
   "codemirror_mode": {
    "name": "ipython",
    "version": 3
   },
   "file_extension": ".py",
   "mimetype": "text/x-python",
   "name": "python",
   "nbconvert_exporter": "python",
   "pygments_lexer": "ipython3",
   "version": "3.9.4"
  }
 },
 "nbformat": 4,
 "nbformat_minor": 5
}
