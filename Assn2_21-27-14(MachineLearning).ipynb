{
 "cells": [
  {
   "cell_type": "markdown",
   "id": "bdbe41c3-981c-419e-a8fc-1e83b45eb33d",
   "metadata": {},
   "source": [
    "##### ASSIGNMENT 2 : HOUSEPRICE PREDICTION USING LINEAR REGRESSION\n",
    "Kamal Kandpal<br>\n",
    "21-27-14<br>\n",
    "DATASCIENCE"
   ]
  },
  {
   "cell_type": "markdown",
   "id": "c87314b1-e620-449f-8139-54eb174381a6",
   "metadata": {},
   "source": [
    "### 1. USING SKLEARN "
   ]
  },
  {
   "cell_type": "markdown",
   "id": "14c938b2-a3a6-4886-b7e6-c877408715a9",
   "metadata": {},
   "source": [
    "##### IMPORTING THE LIBRARIES"
   ]
  },
  {
   "cell_type": "code",
   "execution_count": null,
   "id": "0d952a39",
   "metadata": {},
   "outputs": [],
   "source": [
    "import numpy as np\n",
    "import matplotlib.pyplot as plt\n",
    "import pandas as pd\n",
    "import time"
   ]
  },
  {
   "cell_type": "markdown",
   "id": "87b4ece2-2e81-49ea-82f8-5bed1b21c221",
   "metadata": {},
   "source": [
    "##### IMPORTING THE DATASET "
   ]
  },
  {
   "cell_type": "code",
   "execution_count": 179,
   "id": "8a75e062-d94c-4f21-9894-484c10a50458",
   "metadata": {},
   "outputs": [],
   "source": [
    "dataset = pd.read_csv('Housepriceprediction.csv')\n",
    "# print(dataset)\n",
    "x= dataset.iloc[:,1:-1].values\n",
    "y= dataset.iloc[:,-1].values\n",
    "# dataset.head()"
   ]
  },
  {
   "cell_type": "markdown",
   "id": "b22c7773-5c0f-4945-b9ee-c3e0c2615eec",
   "metadata": {},
   "source": [
    "##### SPLITTING THE DATA INTO TRAINING SET AND TEST SET "
   ]
  },
  {
   "cell_type": "code",
   "execution_count": 180,
   "id": "134fcdfb-1f6a-4788-9726-f426bb330b63",
   "metadata": {},
   "outputs": [
    {
     "name": "stdout",
     "output_type": "stream",
     "text": [
      "(1000, 7) (460, 7)\n",
      "(1000,) (460,)\n"
     ]
    }
   ],
   "source": [
    "from sklearn.model_selection import train_test_split\n",
    "x_train, x_test , y_train, y_test = train_test_split(x,y,test_size=0.315, random_state=0)\n",
    "print(x_train.shape , x_test.shape)\n",
    "print(y_train.shape , y_test.shape)\n"
   ]
  },
  {
   "cell_type": "code",
   "execution_count": 181,
   "id": "4cf177c9-6ee2-43bb-b488-a5d3cc165d56",
   "metadata": {},
   "outputs": [
    {
     "name": "stdout",
     "output_type": "stream",
     "text": [
      "(1000, 1)\n",
      "(460, 1)\n"
     ]
    }
   ],
   "source": [
    "y_train= y_train.reshape(len(y_train),1)\n",
    "print(y_train.shape)\n",
    "y_test = y_test.reshape(len(y_test),1)\n",
    "print(y_test.shape)"
   ]
  },
  {
   "cell_type": "markdown",
   "id": "8b25e16e-0a10-41e3-9160-96b283365cd6",
   "metadata": {},
   "source": [
    "##### FEATURE SCALING"
   ]
  },
  {
   "cell_type": "code",
   "execution_count": 182,
   "id": "e853611f-43bf-4bbc-8e91-c69dedc1101a",
   "metadata": {},
   "outputs": [],
   "source": [
    "from sklearn.preprocessing import StandardScaler\n",
    "sc = StandardScaler()\n",
    "x_train =  sc.fit_transform(x_train)\n",
    "x_test =  sc.fit_transform(x_test)\n",
    "y_train = sc.fit_transform(y_train)\n",
    "y_test = sc.fit_transform(y_test)"
   ]
  },
  {
   "cell_type": "code",
   "execution_count": 183,
   "id": "397ffc39-5ffb-46ab-9c93-6685dd0dc6ea",
   "metadata": {},
   "outputs": [
    {
     "name": "stdout",
     "output_type": "stream",
     "text": [
      "(1000, 7) (1000, 1)\n",
      "(460, 7) (460, 1)\n"
     ]
    }
   ],
   "source": [
    "print(x_train.shape , y_train.shape)\n",
    "print(x_test.shape , y_test.shape)\n",
    "\n",
    "# print(x_train, y_train)"
   ]
  },
  {
   "cell_type": "markdown",
   "id": "c1c6140c-4b98-4b10-9ece-77c7cd259b80",
   "metadata": {},
   "source": [
    "##### TRAINING THE MULTIPLE LINEAR REGRESSION MODEL ON THE TRAINING SET "
   ]
  },
  {
   "cell_type": "code",
   "execution_count": 184,
   "id": "9fd2597a-075d-45f9-9ec8-7fa5a323365f",
   "metadata": {},
   "outputs": [],
   "source": [
    "start_time = time.monotonic()\n",
    "from sklearn.linear_model import LinearRegression\n",
    "regressor = LinearRegression()\n",
    "regressor.fit(x_train,y_train)\n",
    "y_pred = regressor.predict(x_test)\n",
    "end_time = time.monotonic()"
   ]
  },
  {
   "cell_type": "markdown",
   "id": "4c981cd1-174b-4db1-af03-a1aabbe03a6b",
   "metadata": {},
   "source": [
    "##### EVALUATING THE MODEL PERFORMANCE"
   ]
  },
  {
   "cell_type": "code",
   "execution_count": 185,
   "id": "0516a46f-fb04-4191-b413-14df4bccdcd3",
   "metadata": {},
   "outputs": [
    {
     "name": "stdout",
     "output_type": "stream",
     "text": [
      "r2_score : 0.7108524559763784\n",
      "MSE : 0.28914754402362164\n",
      "Time Taken by sklearn : 0.0 seconds\n"
     ]
    }
   ],
   "source": [
    "from sklearn.metrics import r2_score, mean_squared_error\n",
    "print(f'r2_score : {r2_score(y_test, y_pred)}')\n",
    "print(f'MSE : {mean_squared_error(y_test,y_pred)}')\n",
    "print(f'Time Taken by sklearn : {end_time - start_time} seconds')"
   ]
  },
  {
   "cell_type": "markdown",
   "id": "6ff31500-e843-4194-8d36-bc956440ced9",
   "metadata": {},
   "source": [
    "### 2. USING GRADIENT DESCENT "
   ]
  },
  {
   "cell_type": "code",
   "execution_count": 157,
   "id": "8131090f-f8ab-482a-9089-941db936f78f",
   "metadata": {},
   "outputs": [
    {
     "name": "stdout",
     "output_type": "stream",
     "text": [
      "(1000, 8) (460, 8) (8,)\n"
     ]
    }
   ],
   "source": [
    "theta = np.array([0,0,0,0,0,0,0,0])\n",
    "x0_train = np.ones(1000, dtype=int).reshape(1000,1)\n",
    "x0_test = np.ones(460, dtype=int).reshape(460,1)\n",
    "# np.ones(10,dtype = int)\n",
    "# print(x0_test)\n",
    "x_train = np.hstack((x0_train,x_train))\n",
    "x_test = np.hstack((x0_test,x_test))\n",
    "\n",
    "print(x_train.shape, x_test.shape, theta.shape)\n"
   ]
  },
  {
   "cell_type": "code",
   "execution_count": 158,
   "id": "6f47046c-e675-4760-abcf-8408ecca8cdd",
   "metadata": {
    "tags": []
   },
   "outputs": [
    {
     "name": "stdout",
     "output_type": "stream",
     "text": [
      "[-0.02 -0.04  0.43  0.14  0.28 -0.07  0.02  0.14]\n"
     ]
    }
   ],
   "source": [
    "LR = 0.01  #Learning Rate\n",
    "epochs = 1000\n",
    "\n",
    "start_time = time.monotonic()\n",
    "\n",
    "def gradient_descent(theta,x_train,y_train,LR):\n",
    "    for i in range(len(x_train)):\n",
    "        h=np.dot(theta,np.transpose(x_train[i]))\n",
    "        a=np.dot(float(y_train[i]-h),x_train[i])\n",
    "        theta=theta+LR*a\n",
    "        \n",
    "    return theta\n",
    "\n",
    "for i in range(epochs):\n",
    "    updated=gradient_descent(theta,x_train,y_train,LR)\n",
    "    theta=updated\n",
    "print(theta)\n",
    "\n",
    "end_time = time.monotonic()"
   ]
  },
  {
   "cell_type": "code",
   "execution_count": 159,
   "id": "be1cedcf-a2fb-4ecc-9cbd-6cce387598ce",
   "metadata": {},
   "outputs": [],
   "source": [
    "y_predGD = []\n",
    "\n",
    "x_test = np.array(x_test)\n",
    "for i in range(len(x_test)):\n",
    "    h = np.dot(theta,x_test[i].T)\n",
    "    y_predGD.append(h)\n"
   ]
  },
  {
   "cell_type": "code",
   "execution_count": 160,
   "id": "102f9245-1086-4275-8712-cb1d318e81e9",
   "metadata": {},
   "outputs": [
    {
     "name": "stdout",
     "output_type": "stream",
     "text": [
      "r2_score(Gradient Descent) : 0.7083645183720954\n",
      "MSE(Gradient Descent) : 0.29163548162790465\n",
      "Time Taken by Gradient Descent algo : 10.344000000040978 seconds\n"
     ]
    }
   ],
   "source": [
    "print(f'r2_score(Gradient Descent) : {r2_score(y_test, y_predGD)}')\n",
    "print(f'MSE(Gradient Descent) : {mean_squared_error(y_test,y_predGD)}')\n",
    "print(f'Time Taken by Gradient Descent algo : {end_time - start_time} seconds')"
   ]
  },
  {
   "cell_type": "markdown",
   "id": "8d73db83-0af9-4fce-95ac-a554b05c3f17",
   "metadata": {},
   "source": [
    "### 3. USING NORMAL EQUATION"
   ]
  },
  {
   "cell_type": "code",
   "execution_count": 167,
   "id": "1e028070-c3d3-4388-981f-f08e4f37a865",
   "metadata": {},
   "outputs": [
    {
     "name": "stdout",
     "output_type": "stream",
     "text": [
      "[[-1.17e-16  8.64e-02  4.46e-01  1.56e-01  3.01e-01 -3.05e-02  3.87e-02\n",
      "   1.40e-01]]\n"
     ]
    }
   ],
   "source": [
    "y_train = y_train.reshape(1000,1)\n",
    "y_test = y_test.reshape(460,1)\n",
    "\n",
    "start_time = time.monotonic()\n",
    "\n",
    "theta = np.dot(np.linalg.pinv(np.dot((x_train.T),x_train)),np.dot((x_train.T),y_train))\n",
    "theta = theta.reshape(1,8)\n",
    "print(theta)\n",
    "\n",
    "end_time = time.monotonic()"
   ]
  },
  {
   "cell_type": "code",
   "execution_count": 168,
   "id": "f7d35a73-2a29-469b-bbea-e4d6ad4d1a61",
   "metadata": {},
   "outputs": [],
   "source": [
    "y_predNE = []\n",
    "\n",
    "x_test = np.array(x_test)\n",
    "for i in range(len(x_test)):\n",
    "    h = np.dot(theta,x_test[i].T)\n",
    "    y_predNE.append(h)"
   ]
  },
  {
   "cell_type": "code",
   "execution_count": 169,
   "id": "fbbe062b-9130-4d8b-b8ef-f8e5ff088059",
   "metadata": {},
   "outputs": [
    {
     "name": "stdout",
     "output_type": "stream",
     "text": [
      "r2_score(Normal Equation) : 0.7108524559763787\n",
      "MSE(Normal Equation) : 0.28914754402362125\n",
      "Time Taken by Normal Equation : 0.015999999828636646 seconds\n"
     ]
    }
   ],
   "source": [
    "print(f'r2_score(Normal Equation) : {r2_score(y_test, y_predNE)}')\n",
    "print(f'MSE(Normal Equation) : {mean_squared_error(y_test,y_predNE)}')\n",
    "print(f'Time Taken by Normal Equation : {end_time - start_time} seconds')"
   ]
  }
 ],
 "metadata": {
  "kernelspec": {
   "display_name": "Python 3 (ipykernel)",
   "language": "python",
   "name": "python3"
  },
  "language_info": {
   "codemirror_mode": {
    "name": "ipython",
    "version": 3
   },
   "file_extension": ".py",
   "mimetype": "text/x-python",
   "name": "python",
   "nbconvert_exporter": "python",
   "pygments_lexer": "ipython3",
   "version": "3.9.4"
  }
 },
 "nbformat": 4,
 "nbformat_minor": 5
}
